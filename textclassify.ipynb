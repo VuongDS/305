{
  "nbformat": 4,
  "nbformat_minor": 0,
  "metadata": {
    "colab": {
      "provenance": [],
      "collapsed_sections": []
    },
    "kernelspec": {
      "name": "python3",
      "display_name": "Python 3"
    }
  },
  "cells": [
    {
      "cell_type": "markdown",
      "metadata": {
        "id": "DhPHJdEdJ_I3"
      },
      "source": [
        "# Email Spam Detector"
      ]
    },
    {
      "cell_type": "markdown",
      "metadata": {
        "id": "hqp-12jGVJdv"
      },
      "source": [
        "## Import library"
      ]
    },
    {
      "cell_type": "code",
      "metadata": {
        "id": "SNKl_1G4J0fL"
      },
      "source": [
        "import pandas as pd\n",
        "import numpy as np\n",
        "import matplotlib.pyplot as plt\n",
        "import sys, os, re, csv, codecs, numpy as np, pandas as pd\n",
        "import tensorflow.keras\n",
        "import datetime\n",
        "from tensorflow.keras import backend as K\n",
        "import tensorflow.keras.optimizers as Optimizer\n",
        "from tensorflow.keras.utils import to_categorical\n",
        "from tensorflow.keras.callbacks import ModelCheckpoint, TensorBoard\n",
        "from tensorflow.keras.preprocessing.text import Tokenizer\n",
        "from tensorflow.keras.preprocessing.sequence import pad_sequences\n",
        "from tensorflow.keras.layers import Dense, Input, LSTM, Embedding, Dropout, Activation, GRU\n",
        "from tensorflow.keras.layers import Bidirectional, GlobalMaxPool1D\n",
        "from tensorflow.keras.models import Model, load_model\n",
        "# import tensorflow_addons as tfa\n",
        "\n",
        "from tensorflow.keras import initializers, regularizers, constraints, optimizers, layers\n",
        "from sklearn.metrics import confusion_matrix as CM\n",
        "from sklearn.metrics import confusion_matrix, f1_score, precision_score, recall_score\n",
        "import matplotlib.pyplot as plot\n",
        "import seaborn as sn\n",
        "import tensorflow as tf"
      ],
      "execution_count": 1,
      "outputs": []
    },
    {
      "cell_type": "markdown",
      "metadata": {
        "id": "xydkCbPfLXY2"
      },
      "source": [
        "## Import dataset"
      ]
    },
    {
      "cell_type": "markdown",
      "source": [
        "Business Understanding:\n",
        "\n",
        "What is mail spam ?\n",
        "\n",
        "Spam emails are illegal or unsolicited messages sent through to a large number of users. \n",
        "\n",
        "Their primary goal is to lure the user into clicking a malicious link or downloading an attachment that is harmful to the user's machine.\n",
        "\n",
        "Why classifycation mail spam?\n",
        "\n",
        "to protect user from malicious email\n",
        "\n",
        "reduce user distractions when receiving unsolicited emails\n",
        "\n",
        "Goal: \n",
        "\n",
        "build a usable spam classification model\n",
        "\n",
        "The classification is based on the f1 metric, which is more than 0.9"
      ],
      "metadata": {
        "id": "N-WICJdzdTDY"
      }
    },
    {
      "cell_type": "code",
      "metadata": {
        "id": "AM4q5jxKK7DC"
      },
      "source": [
        "email = pd.read_csv('https://raw.githubusercontent.com/VuongDS/305/main/emails_1.csv')"
      ],
      "execution_count": 2,
      "outputs": []
    },
    {
      "cell_type": "markdown",
      "source": [
        "Shape of dataset is (5728, 2).\n",
        "It's conclude two column:\n",
        "- 'text' contains the content of the email\n",
        "- 'spam' is label of dataset"
      ],
      "metadata": {
        "id": "pOcFBsM7o6N4"
      }
    },
    {
      "cell_type": "code",
      "source": [
        "from wordcloud import WordCloud, STOPWORDS, ImageColorGenerator"
      ],
      "metadata": {
        "id": "cOecIeTpqFEw"
      },
      "execution_count": 3,
      "outputs": []
    },
    {
      "cell_type": "markdown",
      "metadata": {
        "id": "s1xyVuvSLNf7"
      },
      "source": [
        "## Cleaning the text"
      ]
    },
    {
      "cell_type": "code",
      "source": [
        "from gensim.utils import simple_preprocess"
      ],
      "metadata": {
        "id": "2rLUjZWIqTKc"
      },
      "execution_count": 4,
      "outputs": []
    },
    {
      "cell_type": "code",
      "source": [
        "email.iloc[:, 0] = email.iloc[:, 0].apply(lambda x: ' '.join(simple_preprocess(x)))"
      ],
      "metadata": {
        "id": "GeyOCfHOqVFp"
      },
      "execution_count": 5,
      "outputs": []
    },
    {
      "cell_type": "code",
      "source": [
        "email_spam = email[email['spam'] == 1] \n",
        "email_not_spam = email[email['spam'] == 0] "
      ],
      "metadata": {
        "id": "ZIjnOOQ98W7m"
      },
      "execution_count": 6,
      "outputs": []
    },
    {
      "cell_type": "code",
      "source": [
        "# Store word in a list:\n",
        "text_contain_spam = []\n",
        "for text in email_spam.text:\n",
        "  text_contain_spam.append(text)\n",
        "\n",
        "\n",
        "text_contain_not_spam = []\n",
        "for text in email_not_spam.text:\n",
        "  text_contain_not_spam.append(text)"
      ],
      "metadata": {
        "id": "hhq7oSSKKXrm"
      },
      "execution_count": 7,
      "outputs": []
    },
    {
      "cell_type": "code",
      "source": [
        "# Conver list to a text file\n",
        "text_contain_spam = ''.join(text_contain_spam)\n",
        "text_contain_not_spam = ''.join(text_contain_not_spam)"
      ],
      "metadata": {
        "id": "hWFEXJ0rRCxQ"
      },
      "execution_count": 8,
      "outputs": []
    },
    {
      "cell_type": "markdown",
      "source": [
        "## error analysis"
      ],
      "metadata": {
        "id": "D2LzyK9pigtN"
      }
    },
    {
      "cell_type": "code",
      "source": [
        "email.head()"
      ],
      "metadata": {
        "id": "9rWbFisUf7TF",
        "colab": {
          "base_uri": "https://localhost:8080/",
          "height": 206
        },
        "outputId": "2d42e53e-e51e-4329-ff7f-35cf4e7ad5f4"
      },
      "execution_count": 9,
      "outputs": [
        {
          "output_type": "execute_result",
          "data": {
            "text/plain": [
              "                                                text  spam\n",
              "0  subject naturally irresistible your corporate ...     1\n",
              "1  subject the stock trading gunslinger fanny is ...     1\n",
              "2  subject unbelievable new homes made easy im wa...     1\n",
              "3  subject color printing special request additio...     1\n",
              "4  subject do not have money get software cds fro...     1"
            ],
            "text/html": [
              "\n",
              "  <div id=\"df-0b42c0d7-c5ba-40f7-a261-1b0b7c5b905d\">\n",
              "    <div class=\"colab-df-container\">\n",
              "      <div>\n",
              "<style scoped>\n",
              "    .dataframe tbody tr th:only-of-type {\n",
              "        vertical-align: middle;\n",
              "    }\n",
              "\n",
              "    .dataframe tbody tr th {\n",
              "        vertical-align: top;\n",
              "    }\n",
              "\n",
              "    .dataframe thead th {\n",
              "        text-align: right;\n",
              "    }\n",
              "</style>\n",
              "<table border=\"1\" class=\"dataframe\">\n",
              "  <thead>\n",
              "    <tr style=\"text-align: right;\">\n",
              "      <th></th>\n",
              "      <th>text</th>\n",
              "      <th>spam</th>\n",
              "    </tr>\n",
              "  </thead>\n",
              "  <tbody>\n",
              "    <tr>\n",
              "      <th>0</th>\n",
              "      <td>subject naturally irresistible your corporate ...</td>\n",
              "      <td>1</td>\n",
              "    </tr>\n",
              "    <tr>\n",
              "      <th>1</th>\n",
              "      <td>subject the stock trading gunslinger fanny is ...</td>\n",
              "      <td>1</td>\n",
              "    </tr>\n",
              "    <tr>\n",
              "      <th>2</th>\n",
              "      <td>subject unbelievable new homes made easy im wa...</td>\n",
              "      <td>1</td>\n",
              "    </tr>\n",
              "    <tr>\n",
              "      <th>3</th>\n",
              "      <td>subject color printing special request additio...</td>\n",
              "      <td>1</td>\n",
              "    </tr>\n",
              "    <tr>\n",
              "      <th>4</th>\n",
              "      <td>subject do not have money get software cds fro...</td>\n",
              "      <td>1</td>\n",
              "    </tr>\n",
              "  </tbody>\n",
              "</table>\n",
              "</div>\n",
              "      <button class=\"colab-df-convert\" onclick=\"convertToInteractive('df-0b42c0d7-c5ba-40f7-a261-1b0b7c5b905d')\"\n",
              "              title=\"Convert this dataframe to an interactive table.\"\n",
              "              style=\"display:none;\">\n",
              "        \n",
              "  <svg xmlns=\"http://www.w3.org/2000/svg\" height=\"24px\"viewBox=\"0 0 24 24\"\n",
              "       width=\"24px\">\n",
              "    <path d=\"M0 0h24v24H0V0z\" fill=\"none\"/>\n",
              "    <path d=\"M18.56 5.44l.94 2.06.94-2.06 2.06-.94-2.06-.94-.94-2.06-.94 2.06-2.06.94zm-11 1L8.5 8.5l.94-2.06 2.06-.94-2.06-.94L8.5 2.5l-.94 2.06-2.06.94zm10 10l.94 2.06.94-2.06 2.06-.94-2.06-.94-.94-2.06-.94 2.06-2.06.94z\"/><path d=\"M17.41 7.96l-1.37-1.37c-.4-.4-.92-.59-1.43-.59-.52 0-1.04.2-1.43.59L10.3 9.45l-7.72 7.72c-.78.78-.78 2.05 0 2.83L4 21.41c.39.39.9.59 1.41.59.51 0 1.02-.2 1.41-.59l7.78-7.78 2.81-2.81c.8-.78.8-2.07 0-2.86zM5.41 20L4 18.59l7.72-7.72 1.47 1.35L5.41 20z\"/>\n",
              "  </svg>\n",
              "      </button>\n",
              "      \n",
              "  <style>\n",
              "    .colab-df-container {\n",
              "      display:flex;\n",
              "      flex-wrap:wrap;\n",
              "      gap: 12px;\n",
              "    }\n",
              "\n",
              "    .colab-df-convert {\n",
              "      background-color: #E8F0FE;\n",
              "      border: none;\n",
              "      border-radius: 50%;\n",
              "      cursor: pointer;\n",
              "      display: none;\n",
              "      fill: #1967D2;\n",
              "      height: 32px;\n",
              "      padding: 0 0 0 0;\n",
              "      width: 32px;\n",
              "    }\n",
              "\n",
              "    .colab-df-convert:hover {\n",
              "      background-color: #E2EBFA;\n",
              "      box-shadow: 0px 1px 2px rgba(60, 64, 67, 0.3), 0px 1px 3px 1px rgba(60, 64, 67, 0.15);\n",
              "      fill: #174EA6;\n",
              "    }\n",
              "\n",
              "    [theme=dark] .colab-df-convert {\n",
              "      background-color: #3B4455;\n",
              "      fill: #D2E3FC;\n",
              "    }\n",
              "\n",
              "    [theme=dark] .colab-df-convert:hover {\n",
              "      background-color: #434B5C;\n",
              "      box-shadow: 0px 1px 3px 1px rgba(0, 0, 0, 0.15);\n",
              "      filter: drop-shadow(0px 1px 2px rgba(0, 0, 0, 0.3));\n",
              "      fill: #FFFFFF;\n",
              "    }\n",
              "  </style>\n",
              "\n",
              "      <script>\n",
              "        const buttonEl =\n",
              "          document.querySelector('#df-0b42c0d7-c5ba-40f7-a261-1b0b7c5b905d button.colab-df-convert');\n",
              "        buttonEl.style.display =\n",
              "          google.colab.kernel.accessAllowed ? 'block' : 'none';\n",
              "\n",
              "        async function convertToInteractive(key) {\n",
              "          const element = document.querySelector('#df-0b42c0d7-c5ba-40f7-a261-1b0b7c5b905d');\n",
              "          const dataTable =\n",
              "            await google.colab.kernel.invokeFunction('convertToInteractive',\n",
              "                                                     [key], {});\n",
              "          if (!dataTable) return;\n",
              "\n",
              "          const docLinkHtml = 'Like what you see? Visit the ' +\n",
              "            '<a target=\"_blank\" href=https://colab.research.google.com/notebooks/data_table.ipynb>data table notebook</a>'\n",
              "            + ' to learn more about interactive tables.';\n",
              "          element.innerHTML = '';\n",
              "          dataTable['output_type'] = 'display_data';\n",
              "          await google.colab.output.renderOutput(dataTable, element);\n",
              "          const docLink = document.createElement('div');\n",
              "          docLink.innerHTML = docLinkHtml;\n",
              "          element.appendChild(docLink);\n",
              "        }\n",
              "      </script>\n",
              "    </div>\n",
              "  </div>\n",
              "  "
            ]
          },
          "metadata": {},
          "execution_count": 9
        }
      ]
    },
    {
      "cell_type": "code",
      "source": [
        "email_ea = email.copy()"
      ],
      "metadata": {
        "id": "KQOuX8pchiCp"
      },
      "execution_count": 10,
      "outputs": []
    },
    {
      "cell_type": "code",
      "source": [
        "email_ea.at[2239, 'spam'] = 0\n",
        "email_ea.at[1180, 'spam'] = 0\n",
        "email_ea.at[499, 'spam'] = 0\n",
        "email_ea.at[737, 'spam'] = 0\n",
        "email_ea.at[882, 'spam'] = 0\n",
        "email_ea.at[401, 'spam'] = 0\n",
        "email_ea.at[1086, 'spam'] = 0\n",
        "\n",
        "# email_ea.at[1181, 'spam'] = 0\n",
        "# email_ea.at[3523, 'spam'] = 1\n",
        "# email_ea.at[3728, 'spam'] = 1\n",
        "# email_ea.at[3513, 'spam'] = 1"
      ],
      "metadata": {
        "id": "cPagr2a2pFl6"
      },
      "execution_count": 11,
      "outputs": []
    },
    {
      "cell_type": "markdown",
      "source": [
        "## Augmentation data"
      ],
      "metadata": {
        "id": "wnSYHNWFPlxD"
      }
    },
    {
      "cell_type": "code",
      "source": [
        "from sklearn.model_selection import train_test_split"
      ],
      "metadata": {
        "id": "jU5aYepwy2nz"
      },
      "execution_count": 12,
      "outputs": []
    },
    {
      "cell_type": "code",
      "source": [
        "X_train_au, X_test_au, y_train_au, y_test_au = train_test_split(email_ea['text'], email_ea['spam'], test_size = 0.20, random_state = 42)\n",
        "X_train_au = pd.DataFrame(X_train_au)\n",
        "X_test_au = pd.DataFrame(X_test_au)\n",
        "y_train_au = pd.DataFrame(y_train_au)\n",
        "y_test_au = pd.DataFrame(y_test_au)\n",
        "y_train_au.iloc[:, 0] = y_train_au.iloc[:, 0].apply(lambda x: '__label__' + str(x))\n",
        "y_test_au.iloc[:, 0] = y_test_au.iloc[:, 0].apply(lambda x: '__label__' + str(x))"
      ],
      "metadata": {
        "id": "2TaBEeOhIEX_"
      },
      "execution_count": 13,
      "outputs": []
    },
    {
      "cell_type": "code",
      "source": [
        "# X_train_au = new_train(X_train_au)"
      ],
      "metadata": {
        "id": "CulyChtCVBuG"
      },
      "execution_count": 14,
      "outputs": []
    },
    {
      "cell_type": "code",
      "source": [
        "!wget -q https://raw.githubusercontent.com/VuongDS/305/main/train_au_final.csv"
      ],
      "metadata": {
        "id": "awEUKn4bt_0C"
      },
      "execution_count": 15,
      "outputs": []
    },
    {
      "cell_type": "code",
      "source": [
        "dts_au = pd.read_csv('/content/train_au_final.csv', header = None)\n",
        "dts_au = dts_au.rename(columns={0: \"text\", 1: \"spam\"})"
      ],
      "metadata": {
        "id": "UhD4zcJHuCh4"
      },
      "execution_count": 16,
      "outputs": []
    },
    {
      "cell_type": "code",
      "source": [
        "dts_au.shape"
      ],
      "metadata": {
        "id": "qNXaXTMxzw16",
        "colab": {
          "base_uri": "https://localhost:8080/"
        },
        "outputId": "ff441878-75bc-4625-d900-3394fdd96f23"
      },
      "execution_count": 17,
      "outputs": [
        {
          "output_type": "execute_result",
          "data": {
            "text/plain": [
              "(380, 2)"
            ]
          },
          "metadata": {},
          "execution_count": 17
        }
      ]
    },
    {
      "cell_type": "code",
      "source": [
        "dts_au.head(3)"
      ],
      "metadata": {
        "id": "6oeFC9mze0nu",
        "colab": {
          "base_uri": "https://localhost:8080/",
          "height": 143
        },
        "outputId": "31e00d7d-2831-4cbd-d7b2-57df60435b7e"
      },
      "execution_count": 18,
      "outputs": [
        {
          "output_type": "execute_result",
          "data": {
            "text/plain": [
              "                                                text  spam\n",
              "0  subject                                       ...     1\n",
              "1  subject                                       ...     1\n",
              "2  subject                                       ...     1"
            ],
            "text/html": [
              "\n",
              "  <div id=\"df-f30e86d3-fe05-4cfa-ae6e-110920790857\">\n",
              "    <div class=\"colab-df-container\">\n",
              "      <div>\n",
              "<style scoped>\n",
              "    .dataframe tbody tr th:only-of-type {\n",
              "        vertical-align: middle;\n",
              "    }\n",
              "\n",
              "    .dataframe tbody tr th {\n",
              "        vertical-align: top;\n",
              "    }\n",
              "\n",
              "    .dataframe thead th {\n",
              "        text-align: right;\n",
              "    }\n",
              "</style>\n",
              "<table border=\"1\" class=\"dataframe\">\n",
              "  <thead>\n",
              "    <tr style=\"text-align: right;\">\n",
              "      <th></th>\n",
              "      <th>text</th>\n",
              "      <th>spam</th>\n",
              "    </tr>\n",
              "  </thead>\n",
              "  <tbody>\n",
              "    <tr>\n",
              "      <th>0</th>\n",
              "      <td>subject                                       ...</td>\n",
              "      <td>1</td>\n",
              "    </tr>\n",
              "    <tr>\n",
              "      <th>1</th>\n",
              "      <td>subject                                       ...</td>\n",
              "      <td>1</td>\n",
              "    </tr>\n",
              "    <tr>\n",
              "      <th>2</th>\n",
              "      <td>subject                                       ...</td>\n",
              "      <td>1</td>\n",
              "    </tr>\n",
              "  </tbody>\n",
              "</table>\n",
              "</div>\n",
              "      <button class=\"colab-df-convert\" onclick=\"convertToInteractive('df-f30e86d3-fe05-4cfa-ae6e-110920790857')\"\n",
              "              title=\"Convert this dataframe to an interactive table.\"\n",
              "              style=\"display:none;\">\n",
              "        \n",
              "  <svg xmlns=\"http://www.w3.org/2000/svg\" height=\"24px\"viewBox=\"0 0 24 24\"\n",
              "       width=\"24px\">\n",
              "    <path d=\"M0 0h24v24H0V0z\" fill=\"none\"/>\n",
              "    <path d=\"M18.56 5.44l.94 2.06.94-2.06 2.06-.94-2.06-.94-.94-2.06-.94 2.06-2.06.94zm-11 1L8.5 8.5l.94-2.06 2.06-.94-2.06-.94L8.5 2.5l-.94 2.06-2.06.94zm10 10l.94 2.06.94-2.06 2.06-.94-2.06-.94-.94-2.06-.94 2.06-2.06.94z\"/><path d=\"M17.41 7.96l-1.37-1.37c-.4-.4-.92-.59-1.43-.59-.52 0-1.04.2-1.43.59L10.3 9.45l-7.72 7.72c-.78.78-.78 2.05 0 2.83L4 21.41c.39.39.9.59 1.41.59.51 0 1.02-.2 1.41-.59l7.78-7.78 2.81-2.81c.8-.78.8-2.07 0-2.86zM5.41 20L4 18.59l7.72-7.72 1.47 1.35L5.41 20z\"/>\n",
              "  </svg>\n",
              "      </button>\n",
              "      \n",
              "  <style>\n",
              "    .colab-df-container {\n",
              "      display:flex;\n",
              "      flex-wrap:wrap;\n",
              "      gap: 12px;\n",
              "    }\n",
              "\n",
              "    .colab-df-convert {\n",
              "      background-color: #E8F0FE;\n",
              "      border: none;\n",
              "      border-radius: 50%;\n",
              "      cursor: pointer;\n",
              "      display: none;\n",
              "      fill: #1967D2;\n",
              "      height: 32px;\n",
              "      padding: 0 0 0 0;\n",
              "      width: 32px;\n",
              "    }\n",
              "\n",
              "    .colab-df-convert:hover {\n",
              "      background-color: #E2EBFA;\n",
              "      box-shadow: 0px 1px 2px rgba(60, 64, 67, 0.3), 0px 1px 3px 1px rgba(60, 64, 67, 0.15);\n",
              "      fill: #174EA6;\n",
              "    }\n",
              "\n",
              "    [theme=dark] .colab-df-convert {\n",
              "      background-color: #3B4455;\n",
              "      fill: #D2E3FC;\n",
              "    }\n",
              "\n",
              "    [theme=dark] .colab-df-convert:hover {\n",
              "      background-color: #434B5C;\n",
              "      box-shadow: 0px 1px 3px 1px rgba(0, 0, 0, 0.15);\n",
              "      filter: drop-shadow(0px 1px 2px rgba(0, 0, 0, 0.3));\n",
              "      fill: #FFFFFF;\n",
              "    }\n",
              "  </style>\n",
              "\n",
              "      <script>\n",
              "        const buttonEl =\n",
              "          document.querySelector('#df-f30e86d3-fe05-4cfa-ae6e-110920790857 button.colab-df-convert');\n",
              "        buttonEl.style.display =\n",
              "          google.colab.kernel.accessAllowed ? 'block' : 'none';\n",
              "\n",
              "        async function convertToInteractive(key) {\n",
              "          const element = document.querySelector('#df-f30e86d3-fe05-4cfa-ae6e-110920790857');\n",
              "          const dataTable =\n",
              "            await google.colab.kernel.invokeFunction('convertToInteractive',\n",
              "                                                     [key], {});\n",
              "          if (!dataTable) return;\n",
              "\n",
              "          const docLinkHtml = 'Like what you see? Visit the ' +\n",
              "            '<a target=\"_blank\" href=https://colab.research.google.com/notebooks/data_table.ipynb>data table notebook</a>'\n",
              "            + ' to learn more about interactive tables.';\n",
              "          element.innerHTML = '';\n",
              "          dataTable['output_type'] = 'display_data';\n",
              "          await google.colab.output.renderOutput(dataTable, element);\n",
              "          const docLink = document.createElement('div');\n",
              "          docLink.innerHTML = docLinkHtml;\n",
              "          element.appendChild(docLink);\n",
              "        }\n",
              "      </script>\n",
              "    </div>\n",
              "  </div>\n",
              "  "
            ]
          },
          "metadata": {},
          "execution_count": 18
        }
      ]
    },
    {
      "cell_type": "code",
      "source": [
        "X_train_au = X_train_au.append(dts_au[['text']], ignore_index=True)"
      ],
      "metadata": {
        "id": "8SypnhOTXnst"
      },
      "execution_count": 19,
      "outputs": []
    },
    {
      "cell_type": "code",
      "source": [
        "dts_au['spam'] = dts_au['spam'].apply(lambda x: '__label__' + str(x))"
      ],
      "metadata": {
        "id": "T-whSQamXoSe"
      },
      "execution_count": 20,
      "outputs": []
    },
    {
      "cell_type": "code",
      "source": [
        "y_train_au = y_train_au.append(dts_au[['spam']], ignore_index=True)"
      ],
      "metadata": {
        "id": "09V2DqmkXoU7"
      },
      "execution_count": 21,
      "outputs": []
    },
    {
      "cell_type": "code",
      "source": [
        "# Create train/test dataset\n",
        "X_train_au[['label']] = y_train_au\n",
        "X_test_au[['label']] = y_test_au\n",
        "train_dataset = X_train_au\n",
        "test_dataset = X_test_au\n",
        "\n",
        "# Convert dataset to CSV file\n",
        "train_dataset[['label', 'text']].to_csv('train.txt', \n",
        "                                        index = False, \n",
        "                                        sep = ' ',\n",
        "                                        header = None, \n",
        "                                        quoting = csv.QUOTE_NONE, \n",
        "                                        quotechar = \"\", \n",
        "                                        escapechar = \" \")\n",
        "\n",
        "test_dataset[['label', 'text']].to_csv('test.txt', \n",
        "                                        index = False, \n",
        "                                        sep = ' ',\n",
        "                                        header = None, \n",
        "                                        quoting = csv.QUOTE_NONE, \n",
        "                                        quotechar = \"\", \n",
        "                                        escapechar = \" \")"
      ],
      "metadata": {
        "id": "ya012XA8FVkW"
      },
      "execution_count": 22,
      "outputs": []
    },
    {
      "cell_type": "markdown",
      "metadata": {
        "id": "LVMCS0fZN35x"
      },
      "source": [
        "## Creating the Bag of Words model"
      ]
    },
    {
      "cell_type": "code",
      "source": [
        "!pip3 -q install fasttext\n",
        "!pip3 -q install wordcloud"
      ],
      "metadata": {
        "colab": {
          "base_uri": "https://localhost:8080/"
        },
        "id": "BeW5FU7mMBGG",
        "outputId": "747ee7f0-a93f-4d62-e5f8-05455d689d16"
      },
      "execution_count": 23,
      "outputs": [
        {
          "output_type": "stream",
          "name": "stdout",
          "text": [
            "\u001b[?25l\r\u001b[K     |████▊                           | 10 kB 24.2 MB/s eta 0:00:01\r\u001b[K     |█████████▌                      | 20 kB 6.6 MB/s eta 0:00:01\r\u001b[K     |██████████████▎                 | 30 kB 9.2 MB/s eta 0:00:01\r\u001b[K     |███████████████████             | 40 kB 11.5 MB/s eta 0:00:01\r\u001b[K     |███████████████████████▉        | 51 kB 12.4 MB/s eta 0:00:01\r\u001b[K     |████████████████████████████▋   | 61 kB 14.3 MB/s eta 0:00:01\r\u001b[K     |████████████████████████████████| 68 kB 4.2 MB/s \n",
            "\u001b[?25h  Building wheel for fasttext (setup.py) ... \u001b[?25l\u001b[?25hdone\n"
          ]
        }
      ]
    },
    {
      "cell_type": "code",
      "source": [
        "# !pip3 -q install fasttext\n",
        "import fasttext"
      ],
      "metadata": {
        "id": "SSIumINWoGHI"
      },
      "execution_count": 24,
      "outputs": []
    },
    {
      "cell_type": "markdown",
      "source": [
        "**Tuning**"
      ],
      "metadata": {
        "id": "KDaa5A4dw8OI"
      }
    },
    {
      "cell_type": "code",
      "source": [
        "# Training the fastText classifier\n",
        "model_tune = fasttext.train_supervised(\n",
        "                                'train.txt', \n",
        "                                wordNgrams = 1,\n",
        "                                lr = 1.3,\n",
        "                                epoch = 23,\n",
        "                                minn = 5, # min length of char ngrams\n",
        "                                maxn = 5 # max length of char ngrams\n",
        "                                )"
      ],
      "metadata": {
        "id": "7RLWC8PemRa0"
      },
      "execution_count": 25,
      "outputs": []
    },
    {
      "cell_type": "code",
      "source": [
        "# Evaluating performance on the entire test file\n",
        "model_tune.test('test.txt')  "
      ],
      "metadata": {
        "colab": {
          "base_uri": "https://localhost:8080/"
        },
        "id": "8_tbQCfNmRdm",
        "outputId": "3b264c66-bb31-4974-c308-b61c2e98e1e4"
      },
      "execution_count": 26,
      "outputs": [
        {
          "output_type": "execute_result",
          "data": {
            "text/plain": [
              "(1146, 1.0, 1.0)"
            ]
          },
          "metadata": {},
          "execution_count": 26
        }
      ]
    },
    {
      "cell_type": "code",
      "source": [
        "lst_predict = []\n",
        "for text in test_dataset.iloc[:, 0]:\n",
        "  label, pro = model_tune.predict(text)\n",
        "  lst_predict.append(list(label))\n",
        "lst_predict = pd.DataFrame(lst_predict)"
      ],
      "metadata": {
        "id": "3-bsMBXpmRgU"
      },
      "execution_count": 27,
      "outputs": []
    },
    {
      "cell_type": "code",
      "source": [
        "lst_predict = pd.DataFrame(lst_predict)\n",
        "y_test_au['spam'] = y_test_au['spam'].replace(['__label__1'],1)\n",
        "y_test_au['spam'] = y_test_au['spam'].replace(['__label__0'],0)\n",
        "lst_predict[0] = lst_predict[0].replace(['__label__1'],1)\n",
        "lst_predict[0] = lst_predict[0].replace(['__label__0'],0)"
      ],
      "metadata": {
        "id": "TALnClH-vQmF"
      },
      "execution_count": 28,
      "outputs": []
    },
    {
      "cell_type": "code",
      "source": [
        "f1_score(y_test_au, lst_predict, average='binary')"
      ],
      "metadata": {
        "colab": {
          "base_uri": "https://localhost:8080/"
        },
        "id": "yXGop2p5mRi7",
        "outputId": "0d338518-985a-46f6-e77b-a72c615011e0"
      },
      "execution_count": 29,
      "outputs": [
        {
          "output_type": "execute_result",
          "data": {
            "text/plain": [
              "1.0"
            ]
          },
          "metadata": {},
          "execution_count": 29
        }
      ]
    },
    {
      "cell_type": "code",
      "source": [
        "model_tune.predict([\"I give you a paper on the top of the table\"]) "
      ],
      "metadata": {
        "colab": {
          "base_uri": "https://localhost:8080/"
        },
        "id": "wJm9OFXIMFlU",
        "outputId": "3b80e891-c4b6-4ce3-fb59-ab4042ce206b"
      },
      "execution_count": 30,
      "outputs": [
        {
          "output_type": "execute_result",
          "data": {
            "text/plain": [
              "([['__label__0']], [array([0.9999778], dtype=float32)])"
            ]
          },
          "metadata": {},
          "execution_count": 30
        }
      ]
    },
    {
      "cell_type": "code",
      "source": [
        "def model_predict(*lst_predict):\n",
        "  for lst in lst_predict:\n",
        "    label, prob = model_tune.predict(lst)\n",
        "    if list(label) == ['__label__0']:\n",
        "      print('The sentence \"{}\"... is NOT a mail spam !'.format(lst[:100]))\n",
        "    else:\n",
        "      print('The sentence \"{}\"... is a mail spam !'.format(lst[:100]))\n",
        "  return None"
      ],
      "metadata": {
        "id": "T0UmP4sJMaPK"
      },
      "execution_count": 31,
      "outputs": []
    },
    {
      "cell_type": "code",
      "source": [
        "model_predict(\"I give you a paper on the top of the table\")"
      ],
      "metadata": {
        "colab": {
          "base_uri": "https://localhost:8080/"
        },
        "id": "loT9xKt7Ozdh",
        "outputId": "01201c41-cff6-441d-d915-3637fc21b86d"
      },
      "execution_count": 32,
      "outputs": [
        {
          "output_type": "stream",
          "name": "stdout",
          "text": [
            "The sentence \"I give you a paper on the top of the table\"... is NOT a mail spam !\n"
          ]
        }
      ]
    },
    {
      "cell_type": "code",
      "source": [
        "model_predict(\"I have you\", 'give me money now')"
      ],
      "metadata": {
        "id": "Fbt0fbg_TvsG",
        "colab": {
          "base_uri": "https://localhost:8080/"
        },
        "outputId": "92a5cc0d-3d7c-4b35-edee-91b5af5c7eb4"
      },
      "execution_count": 34,
      "outputs": [
        {
          "output_type": "stream",
          "name": "stdout",
          "text": [
            "The sentence \"I have you\"... is NOT a mail spam !\n",
            "The sentence \"give me money now\"... is a mail spam !\n"
          ]
        }
      ]
    },
    {
      "cell_type": "code",
      "source": [],
      "metadata": {
        "id": "HmoOq0Ah1Zl7"
      },
      "execution_count": null,
      "outputs": []
    }
  ]
}