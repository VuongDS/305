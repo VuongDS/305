{
  "nbformat": 4,
  "nbformat_minor": 0,
  "metadata": {
    "colab": {
      "provenance": []
    },
    "kernelspec": {
      "name": "python3",
      "display_name": "Python 3"
    },
    "language_info": {
      "name": "python"
    }
  },
  "cells": [
    {
      "cell_type": "markdown",
      "source": [
        "## Preprocess"
      ],
      "metadata": {
        "id": "SeZmaZekXSRQ"
      }
    },
    {
      "cell_type": "code",
      "source": [
        "!pip3 -q install fasttext\n",
        "!pip3 -q install wordcloud"
      ],
      "metadata": {
        "id": "UG4Qhx2HCzVx",
        "colab": {
          "base_uri": "https://localhost:8080/"
        },
        "outputId": "c08f2433-485a-4aa3-cbec-c362e87624e4"
      },
      "execution_count": null,
      "outputs": [
        {
          "output_type": "stream",
          "name": "stdout",
          "text": [
            "\u001b[?25l\r\u001b[K     |████▊                           | 10 kB 27.3 MB/s eta 0:00:01\r\u001b[K     |█████████▌                      | 20 kB 26.5 MB/s eta 0:00:01\r\u001b[K     |██████████████▎                 | 30 kB 32.7 MB/s eta 0:00:01\r\u001b[K     |███████████████████             | 40 kB 15.5 MB/s eta 0:00:01\r\u001b[K     |███████████████████████▉        | 51 kB 13.2 MB/s eta 0:00:01\r\u001b[K     |████████████████████████████▋   | 61 kB 15.2 MB/s eta 0:00:01\r\u001b[K     |████████████████████████████████| 68 kB 4.9 MB/s \n",
            "\u001b[?25h  Building wheel for fasttext (setup.py) ... \u001b[?25l\u001b[?25hdone\n"
          ]
        }
      ]
    },
    {
      "cell_type": "code",
      "execution_count": null,
      "metadata": {
        "id": "0RBk3tkLCYp5"
      },
      "outputs": [],
      "source": [
        "!wget -q https://raw.githubusercontent.com/VuongDS/305/main/textclassify.py"
      ]
    },
    {
      "cell_type": "code",
      "source": [
        "import sys\n",
        "import os\n",
        "py_file_location = \"/content/textclassify.py\"\n",
        "sys.path.append(os.path.abspath(py_file_location))"
      ],
      "metadata": {
        "id": "Nga_jWaxCiAi"
      },
      "execution_count": null,
      "outputs": []
    },
    {
      "cell_type": "code",
      "source": [
        "import textclassify"
      ],
      "metadata": {
        "id": "fCeBa177DRXL"
      },
      "execution_count": null,
      "outputs": []
    },
    {
      "cell_type": "markdown",
      "source": [
        "## **Predict**"
      ],
      "metadata": {
        "id": "XjA2l7XNZ7kA"
      }
    },
    {
      "cell_type": "code",
      "source": [
        "textclassify.model_predict('I give you money')"
      ],
      "metadata": {
        "id": "ui-wS9HqCadM",
        "colab": {
          "base_uri": "https://localhost:8080/"
        },
        "outputId": "44d4b1bd-9968-4365-c4cf-a246a2d83c6a"
      },
      "execution_count": null,
      "outputs": [
        {
          "output_type": "stream",
          "name": "stdout",
          "text": [
            "The sentence \"I give you money\"... is a mail spam !\n"
          ]
        }
      ]
    },
    {
      "cell_type": "code",
      "source": [
        "textclassify.model_predict('Buy me a dress at Sunday')"
      ],
      "metadata": {
        "id": "ZnCaOf3bXP88",
        "colab": {
          "base_uri": "https://localhost:8080/"
        },
        "outputId": "a391caa0-8e92-417f-ee16-486ca650df06"
      },
      "execution_count": null,
      "outputs": [
        {
          "output_type": "stream",
          "name": "stdout",
          "text": [
            "The sentence \"Buy me a dress at Sunday\"... is NOT a mail spam !\n"
          ]
        }
      ]
    },
    {
      "cell_type": "code",
      "source": [],
      "metadata": {
        "id": "Nx_kzokXflz_"
      },
      "execution_count": null,
      "outputs": []
    }
  ]
}