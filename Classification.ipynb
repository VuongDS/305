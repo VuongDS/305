{
  "cells": [
    {
      "cell_type": "markdown",
      "metadata": {
        "id": "SeZmaZekXSRQ"
      },
      "source": [
        "## Preprocess"
      ]
    },
    {
      "cell_type": "code",
      "execution_count": 5,
      "metadata": {
        "id": "UG4Qhx2HCzVx"
      },
      "outputs": [],
      "source": [
        "!pip3 -q install fasttext\n",
        "!pip3 -q install wordcloud"
      ]
    },
    {
      "cell_type": "code",
      "execution_count": 14,
      "metadata": {
        "id": "0RBk3tkLCYp5"
      },
      "outputs": [],
      "source": [
        "!wget -q https://raw.githubusercontent.com/VuongDS/305/main/textclassify.py"
      ]
    },
    {
      "cell_type": "code",
      "execution_count": 15,
      "metadata": {
        "id": "Nga_jWaxCiAi"
      },
      "outputs": [],
      "source": [
        "import sys\n",
        "import os\n",
        "py_file_location = \"/content/textclassify.py\"\n",
        "sys.path.append(os.path.abspath(py_file_location))"
      ]
    },
    {
      "cell_type": "code",
      "execution_count": 16,
      "metadata": {
        "id": "fCeBa177DRXL"
      },
      "outputs": [],
      "source": [
        "import textclassify"
      ]
    },
    {
      "cell_type": "markdown",
      "metadata": {
        "id": "XjA2l7XNZ7kA"
      },
      "source": [
        "## **Predict**"
      ]
    },
    {
      "cell_type": "code",
      "execution_count": 1,
      "metadata": {
        "id": "5eeVFhOZuCM3"
      },
      "outputs": [],
      "source": [
        "text = 'I give you money'"
      ]
    },
    {
      "cell_type": "code",
      "execution_count": 24,
      "metadata": {
        "id": "ui-wS9HqCadM",
        "colab": {
          "base_uri": "https://localhost:8080/"
        },
        "outputId": "0b463f9e-4c53-48b1-cf07-10bce8cb76f4"
      },
      "outputs": [
        {
          "output_type": "stream",
          "name": "stdout",
          "text": [
            "The sentence \"subject marketing coordinator interview invitation dear samantha we have received your application f\"... is NOT a mail spam !\n"
          ]
        }
      ],
      "source": [
        "textclassify.model_predict(text)"
      ]
    },
    {
      "cell_type": "code",
      "execution_count": 18,
      "metadata": {
        "id": "Nx_kzokXflz_"
      },
      "outputs": [],
      "source": []
    }
  ],
  "metadata": {
    "colab": {
      "provenance": [],
      "collapsed_sections": []
    },
    "kernelspec": {
      "display_name": "Python 3",
      "name": "python3"
    },
    "language_info": {
      "name": "python"
    }
  },
  "nbformat": 4,
  "nbformat_minor": 0
}